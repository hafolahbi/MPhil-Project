{
 "cells": [
  {
   "cell_type": "markdown",
   "metadata": {
    "ExecuteTime": {
     "end_time": "2021-04-15T14:56:32.453372Z",
     "start_time": "2021-04-15T14:56:32.336651Z"
    }
   },
   "source": [
    "# Field Data Analysis\n",
    "## Data Extraction\n",
    "### 25/05/2022 "
   ]
  },
  {
   "cell_type": "code",
   "execution_count": 1,
   "metadata": {
    "ExecuteTime": {
     "end_time": "2022-06-26T09:07:54.622349Z",
     "start_time": "2022-06-26T09:07:52.956337Z"
    }
   },
   "outputs": [],
   "source": [
    "#import segysak\n",
    "import pathlib\n",
    "import platform\n",
    "from IPython.display import display\n",
    "\n",
    "import os\n",
    "import pandas as pd\n",
    "import numpy as np\n",
    "\n",
    "from netCDF4 import Dataset\n",
    "import xarray as xr\n",
    "\n",
    "import matplotlib.pyplot as plt"
   ]
  },
  {
   "cell_type": "code",
   "execution_count": 2,
   "metadata": {
    "ExecuteTime": {
     "end_time": "2022-06-26T09:07:54.905915Z",
     "start_time": "2022-06-26T09:07:54.622349Z"
    }
   },
   "outputs": [
    {
     "name": "stderr",
     "output_type": "stream",
     "text": [
      "C:\\Users\\hafolahbi\\anaconda3\\lib\\site-packages\\segysak\\segy\\_segy_core.py:7: TqdmExperimentalWarning: Using `tqdm.autonotebook.tqdm` in notebook mode. Use `tqdm.tqdm` instead to force console mode (e.g. in jupyter console)\n",
      "  from tqdm.autonotebook import tqdm\n"
     ]
    }
   ],
   "source": [
    "# Change to data location folder\n",
    "# Copy the python function (\"extract\") to the data folder\n",
    "import extract as ex"
   ]
  },
  {
   "cell_type": "code",
   "execution_count": 3,
   "metadata": {
    "ExecuteTime": {
     "end_time": "2022-06-26T09:07:54.921919Z",
     "start_time": "2022-06-26T09:07:54.906916Z"
    }
   },
   "outputs": [
    {
     "name": "stdout",
     "output_type": "stream",
     "text": [
      "Help on module extract:\n",
      "\n",
      "NAME\n",
      "    extract\n",
      "\n",
      "DESCRIPTION\n",
      "    Created on Thu May 19 22:36:01 2022\n",
      "    @author: hafolahbi\n",
      "\n",
      "FUNCTIONS\n",
      "    extract(file)\n",
      "        Parameters\n",
      "        ----------\n",
      "        file : TYPE\n",
      "                SEG_Y\n",
      "            DESCRIPTION.\n",
      "                Function to extract longitude, latitude and depth of a SEG-Y file obtained from StrataBox\n",
      "                \n",
      "                Args:\n",
      "                    Input the SEG_Y file\n",
      "                \n",
      "                Returns:\n",
      "                    lon, lat, depth (float array)\n",
      "                \n",
      "        \n",
      "        Returns\n",
      "        -------\n",
      "        lon : TYPE\n",
      "            DESCRIPTION.\n",
      "                Longitude of the file\n",
      "        lat : TYPE\n",
      "            DESCRIPTION.\n",
      "                Latitude of the file\n",
      "        depth : TYPE\n",
      "            DESCRIPTION.\n",
      "                Depth of the file\n",
      "\n",
      "FILE\n",
      "    c:\\users\\hafolahbi\\desktop\\seg_y_only\\extract.py\n",
      "\n",
      "\n"
     ]
    }
   ],
   "source": [
    "help(ex)"
   ]
  },
  {
   "cell_type": "code",
   "execution_count": 4,
   "metadata": {
    "ExecuteTime": {
     "end_time": "2022-06-26T09:07:56.753005Z",
     "start_time": "2022-06-26T09:07:54.923919Z"
    }
   },
   "outputs": [
    {
     "data": {
      "application/vnd.jupyter.widget-view+json": {
       "model_id": "3a24da4b6bfe416f8225dad42f5326b6",
       "version_major": 2,
       "version_minor": 0
      },
      "text/plain": [
       "  0%|          | 0.00/15.8k [00:00<?, ? traces/s]"
      ]
     },
     "metadata": {},
     "output_type": "display_data"
    },
    {
     "data": {
      "text/plain": [
       "(0        4.623282\n",
       " 1        4.623282\n",
       " 2        4.623282\n",
       " 3        4.623282\n",
       " 4        4.623282\n",
       "            ...   \n",
       " 15754    4.608522\n",
       " 15755    4.608522\n",
       " 15756    4.608522\n",
       " 15757    4.608518\n",
       " 15758    4.608518\n",
       " Name: SourceX, Length: 15759, dtype: float64,\n",
       " 0        6.241697\n",
       " 1        6.241697\n",
       " 2        6.241697\n",
       " 3        6.241697\n",
       " 4        6.241697\n",
       "            ...   \n",
       " 15754    6.190656\n",
       " 15755    6.190656\n",
       " 15756    6.190656\n",
       " 15757    6.190640\n",
       " 15758    6.190640\n",
       " Name: SourceY, Length: 15759, dtype: float64,\n",
       " 0        0.0\n",
       " 1        0.0\n",
       " 2        0.0\n",
       " 3        0.0\n",
       " 4        0.0\n",
       "         ... \n",
       " 15754    5.9\n",
       " 15755    5.8\n",
       " 15756    5.9\n",
       " 15757    5.4\n",
       " 15758    5.4\n",
       " Name: SourceWaterDepth, Length: 15759, dtype: float64)"
      ]
     },
     "execution_count": 4,
     "metadata": {},
     "output_type": "execute_result"
    }
   ],
   "source": [
    "os.chdir('/users/hafolahbi/Desktop/SEG_Y_only/')\n",
    "file = \"20220522110319P-HF.seg\" # One of the data file\n",
    "ex.extract(file) # Calling and using the function"
   ]
  },
  {
   "cell_type": "markdown",
   "metadata": {},
   "source": [
    "## Extracting lon, lat and depth"
   ]
  },
  {
   "cell_type": "code",
   "execution_count": 5,
   "metadata": {
    "ExecuteTime": {
     "end_time": "2022-06-26T09:07:58.399640Z",
     "start_time": "2022-06-26T09:07:56.754005Z"
    }
   },
   "outputs": [
    {
     "data": {
      "application/vnd.jupyter.widget-view+json": {
       "model_id": "5078d863eb2742c0ab21225c79bf314b",
       "version_major": 2,
       "version_minor": 0
      },
      "text/plain": [
       "  0%|          | 0.00/15.8k [00:00<?, ? traces/s]"
      ]
     },
     "metadata": {},
     "output_type": "display_data"
    },
    {
     "data": {
      "text/plain": [
       "Text(0.5, 1.0, 'xyz')"
      ]
     },
     "execution_count": 5,
     "metadata": {},
     "output_type": "execute_result"
    },
    {
     "data": {
      "image/png": "[encoded data removed]",
      "text/plain": [
       "<Figure size 1080x432 with 3 Axes>"
      ]
     },
     "metadata": {
      "needs_background": "light"
     },
     "output_type": "display_data"
    }
   ],
   "source": [
    "#Calling function\n",
    "file = \"20220522110319P-HF.seg\"\n",
    "lon,lat,depth = ex.extract(file)\n",
    "fig=plt.figure(figsize=(15,6))\n",
    "plt.subplot(121)\n",
    "plt.scatter(lon,lat,c=depth,s=15) # \n",
    "#plt.ticklabel_format(axis='y', style='plain', useOffset=False)\n",
    "plt.ylabel('Latitude (°)',fontsize=15)\n",
    "plt.xlabel('Lontitude (°)',fontsize=15)\n",
    "plt.title('xyz',fontsize=20)\n",
    "#plt.ticklabel_format()\n",
    "plt.colorbar()\n",
    "#plt.legend()\n",
    "# plt.ylim(-0.02,0.12)\n",
    "# plt.yticks(fontsize=20)\n",
    "# plt.xticks(fontsize=20)\n",
    "\n",
    "plt.subplot(122)\n",
    "#depth = np.ma.masked_where(depth<=0.2, depth)\n",
    "#np.ma.masked_invalid(depth)\n",
    "plt.plot(lon,depth)\n",
    "plt.ylabel('Depth (°)',fontsize=15)\n",
    "plt.xlabel('Lontitude (°)',fontsize=15)\n",
    "plt.title('xyz',fontsize=20)\n",
    "#fig.savefig('extracted')\n",
    "#plt.plot(lon,depth)"
   ]
  },
  {
   "cell_type": "code",
   "execution_count": 6,
   "metadata": {
    "ExecuteTime": {
     "end_time": "2022-06-26T09:07:59.852048Z",
     "start_time": "2022-06-26T09:07:58.400641Z"
    }
   },
   "outputs": [
    {
     "data": {
      "application/vnd.jupyter.widget-view+json": {
       "model_id": "52fd2a6adc3b485596f0b1892df97fb9",
       "version_major": 2,
       "version_minor": 0
      },
      "text/plain": [
       "  0%|          | 0.00/12.9k [00:00<?, ? traces/s]"
      ]
     },
     "metadata": {},
     "output_type": "display_data"
    }
   ],
   "source": [
    "file = \"20220522120303P-HF.seg\"\n",
    "lon1,lat1,depth1 = ex.extract(file)\n",
    "#plt.plot(lon_new,depth_new)\n",
    "lon = lon.append(lon1)\n",
    "lat = lat.append(lat1)\n",
    "depth = depth.append(depth1)"
   ]
  },
  {
   "cell_type": "code",
   "execution_count": 7,
   "metadata": {
    "ExecuteTime": {
     "end_time": "2022-06-26T09:08:01.773251Z",
     "start_time": "2022-06-26T09:07:59.852048Z"
    }
   },
   "outputs": [
    {
     "data": {
      "application/vnd.jupyter.widget-view+json": {
       "model_id": "6d30a972b0dc4c7792b3042e83cf8ef3",
       "version_major": 2,
       "version_minor": 0
      },
      "text/plain": [
       "  0%|          | 0.00/17.3k [00:00<?, ? traces/s]"
      ]
     },
     "metadata": {},
     "output_type": "display_data"
    }
   ],
   "source": [
    "file = \"20220522124716P-HF.seg\"\n",
    "lon2,lat2,depth2 = ex.extract(file)\n",
    "lon = lon.append(lon2)\n",
    "lat = lat.append(lat2)\n",
    "depth = depth.append(depth2)"
   ]
  },
  {
   "cell_type": "code",
   "execution_count": 8,
   "metadata": {
    "ExecuteTime": {
     "end_time": "2022-06-26T09:08:03.623283Z",
     "start_time": "2022-06-26T09:08:01.773251Z"
    }
   },
   "outputs": [
    {
     "data": {
      "application/vnd.jupyter.widget-view+json": {
       "model_id": "6aad8c91855343edb57e6f9ed824b2f0",
       "version_major": 2,
       "version_minor": 0
      },
      "text/plain": [
       "  0%|          | 0.00/17.3k [00:00<?, ? traces/s]"
      ]
     },
     "metadata": {},
     "output_type": "display_data"
    }
   ],
   "source": [
    "file = \"20220522134701P-HF.seg\"\n",
    "lon3,lat3,depth3 = ex.extract(file) #### use n-1, where n is the rank of file which is 4th here (lon4-1)...\n",
    "lon = lon.append(lon3)\n",
    "lat = lat.append(lat3)\n",
    "depth = depth.append(depth3)"
   ]
  },
  {
   "cell_type": "code",
   "execution_count": 9,
   "metadata": {
    "ExecuteTime": {
     "end_time": "2022-06-26T09:08:05.795885Z",
     "start_time": "2022-06-26T09:08:03.623283Z"
    }
   },
   "outputs": [
    {
     "data": {
      "application/vnd.jupyter.widget-view+json": {
       "model_id": "6df8b8aea4f94ce2a9347ddcfae82acd",
       "version_major": 2,
       "version_minor": 0
      },
      "text/plain": [
       "  0%|          | 0.00/19.9k [00:00<?, ? traces/s]"
      ]
     },
     "metadata": {},
     "output_type": "display_data"
    }
   ],
   "source": [
    "file = \"20220522144647P-HF.seg\"\n",
    "lon4,lat4,depth4 = ex.extract(file) \n",
    "lon = lon.append(lon4)\n",
    "lat = lat.append(lat4)\n",
    "depth = depth.append(depth4)\n",
    "# combined lon, lat and depth of all the output files for first dey survey "
   ]
  },
  {
   "cell_type": "code",
   "execution_count": 10,
   "metadata": {
    "ExecuteTime": {
     "end_time": "2022-06-26T09:08:06.507715Z",
     "start_time": "2022-06-26T09:08:05.795885Z"
    }
   },
   "outputs": [
    {
     "data": {
      "text/plain": [
       "Text(0.5, 0, 'Lontitude (°)')"
      ]
     },
     "execution_count": 10,
     "metadata": {},
     "output_type": "execute_result"
    },
    {
     "data": {
      "image/png": "[encoded data removed]",
      "text/plain": [
       "<Figure size 1440x720 with 1 Axes>"
      ]
     },
     "metadata": {
      "needs_background": "light"
     },
     "output_type": "display_data"
    }
   ],
   "source": [
    "fig=plt.figure(figsize=(20,10)) # Survey path \n",
    "plt.scatter(lon,lat,depth)\n",
    "plt.ticklabel_format(axis='both', style='plain', useOffset=False)\n",
    "plt.ylabel('Latitude (°)',fontsize=15)\n",
    "plt.xlabel('Lontitude (°)',fontsize=15)"
   ]
  },
  {
   "cell_type": "code",
   "execution_count": 11,
   "metadata": {
    "ExecuteTime": {
     "end_time": "2022-06-26T09:08:06.523719Z",
     "start_time": "2022-06-26T09:08:06.508717Z"
    }
   },
   "outputs": [
    {
     "data": {
      "text/plain": [
       "(0.0, 23.0)"
      ]
     },
     "execution_count": 11,
     "metadata": {},
     "output_type": "execute_result"
    }
   ],
   "source": [
    "depth = np.ma.masked_invalid(depth)\n",
    "np.min(depth), np.max(depth)"
   ]
  },
  {
   "cell_type": "markdown",
   "metadata": {},
   "source": [
    "#### Removing and masking invalid data"
   ]
  },
  {
   "cell_type": "code",
   "execution_count": 12,
   "metadata": {
    "ExecuteTime": {
     "end_time": "2022-06-26T09:08:06.539723Z",
     "start_time": "2022-06-26T09:08:06.524719Z"
    }
   },
   "outputs": [],
   "source": [
    "depth = np.ma.masked_where(depth<=0.2, depth) #Removing depth values <=0.2. 0.2 is the error value when transducer fail to record\n",
    "depth = np.ma.masked_invalid(depth)\n",
    "#depth = depth + 0.2 # 0.2 meters already added to the measured depth\n",
    "# This 0.2m is the depth from the transducer to the bottom of the boat and was automatically added to the depth during software calibration"
   ]
  },
  {
   "cell_type": "markdown",
   "metadata": {},
   "source": [
    "### Output variables to csv"
   ]
  },
  {
   "cell_type": "code",
   "execution_count": 13,
   "metadata": {
    "ExecuteTime": {
     "end_time": "2022-06-26T09:08:06.555727Z",
     "start_time": "2022-06-26T09:08:06.540725Z"
    }
   },
   "outputs": [],
   "source": [
    "# os.chdir('/users/hafolahbi/Desktop/Field/Latif 22_05/All_Excel_combined_python')\n",
    "# lon = pd.DataFrame(data = lon) # data = variable name to be saved in csv format\n",
    "# lon.to_csv('lon.csv', index = False, encoding='utf-8')\n",
    "\n",
    "# lat = pd.DataFrame(data = lat) \n",
    "# lat.to_csv('lat.csv', index = False, encoding='utf-8')\n",
    "\n",
    "# depth = pd.DataFrame(data = depth)\n",
    "# depth.to_csv('depth.csv', index = False, encoding='utf-8')"
   ]
  },
  {
   "cell_type": "markdown",
   "metadata": {},
   "source": [
    "# Practice with TWT"
   ]
  },
  {
   "cell_type": "code",
   "execution_count": 14,
   "metadata": {
    "ExecuteTime": {
     "end_time": "2022-06-26T09:08:06.571730Z",
     "start_time": "2022-06-26T09:08:06.556727Z"
    }
   },
   "outputs": [
    {
     "data": {
      "text/plain": [
       "masked_array(data=[--, --, --, ..., 0.011333333333333334,\n",
       "                   0.011333333333333334, 0.011333333333333334],\n",
       "             mask=[ True,  True,  True, ..., False, False, False],\n",
       "       fill_value=1e+20)"
      ]
     },
     "execution_count": 14,
     "metadata": {},
     "output_type": "execute_result"
    }
   ],
   "source": [
    "#depth1 = np.ma.masked_where(depth1<=0.2, depth1) #Removing depth values <=0.2. 0.2 is the value of the draft\n",
    "#depth1 = np.ma.masked_invalid(depth1)\n",
    "twt = 2*depth/1500\n",
    "twt"
   ]
  },
  {
   "cell_type": "code",
   "execution_count": 21,
   "metadata": {
    "ExecuteTime": {
     "end_time": "2022-06-26T09:09:32.846639Z",
     "start_time": "2022-06-26T09:09:32.842638Z"
    }
   },
   "outputs": [],
   "source": [
    "#fig=plt.figure(figsize=(20,10))\n",
    "#plt.plot(lon,twt, color='brown', marker='o', linestyle='dashed', linewidth=0.5, markersize=0.1)\n",
    "#plt.scatter(lon1,twt)\n",
    "#twt.plot(cmap='hsv')\n",
    "#plt.colorbar()\n",
    "#plt.ylim([0.008,0.035])"
   ]
  },
  {
   "cell_type": "code",
   "execution_count": null,
   "metadata": {
    "ExecuteTime": {
     "end_time": "2022-06-26T09:08:06.906807Z",
     "start_time": "2022-06-26T09:08:06.906807Z"
    }
   },
   "outputs": [],
   "source": [
    "# axs.plt.subplot()\n",
    "# mesh = axs.pcolormesh(\n",
    "#     lon1,lat1,twt,\n",
    "#     shading='auto'\n",
    "# )\n",
    "# plt.colorbar(mesh)\n",
    "# #axs.set_aspect() = plt.colorbar(mesh, orientation='horizontal')"
   ]
  },
  {
   "cell_type": "code",
   "execution_count": null,
   "metadata": {
    "ExecuteTime": {
     "end_time": "2022-06-26T09:08:06.973821Z",
     "start_time": "2022-06-26T09:08:06.973821Z"
    }
   },
   "outputs": [],
   "source": [
    "# os.chdir('/users/hafolahbi/Desktop/Field/')\n",
    "#data = pd.read_csv('data.csv')"
   ]
  }
 ],
 "metadata": {
  "kernelspec": {
   "display_name": "Python 3 (ipykernel)",
   "language": "python",
   "name": "python3"
  },
  "language_info": {
   "codemirror_mode": {
    "name": "ipython",
    "version": 3
   },
   "file_extension": ".py",
   "mimetype": "text/x-python",
   "name": "python",
   "nbconvert_exporter": "python",
   "pygments_lexer": "ipython3",
   "version": "3.9.7"
  },
  "latex_envs": {
   "LaTeX_envs_menu_present": true,
   "autoclose": false,
   "autocomplete": true,
   "bibliofile": "biblio.bib",
   "cite_by": "apalike",
   "current_citInitial": 1,
   "eqLabelWithNumbers": true,
   "eqNumInitial": 1,
   "hotkeys": {
    "equation": "Ctrl-E",
    "itemize": "Ctrl-I"
   },
   "labels_anchors": false,
   "latex_user_defs": false,
   "report_style_numbering": false,
   "user_envs_cfg": false
  },
  "toc": {
   "base_numbering": 1,
   "nav_menu": {
    "height": "118px",
    "width": "308px"
   },
   "number_sections": true,
   "sideBar": true,
   "skip_h1_title": false,
   "title_cell": "Table of Contents",
   "title_sidebar": "Contents",
   "toc_cell": false,
   "toc_position": {
    "height": "calc(100% - 180px)",
    "left": "10px",
    "top": "150px",
    "width": "273.188px"
   },
   "toc_section_display": true,
   "toc_window_display": true
  },
  "varInspector": {
   "cols": {
    "lenName": 16,
    "lenType": 16,
    "lenVar": 40
   },
   "kernels_config": {
    "python": {
     "delete_cmd_postfix": "",
     "delete_cmd_prefix": "del ",
     "library": "var_list.py",
     "varRefreshCmd": "print(var_dic_list())"
    },
    "r": {
     "delete_cmd_postfix": ") ",
     "delete_cmd_prefix": "rm(",
     "library": "var_list.r",
     "varRefreshCmd": "cat(var_dic_list()) "
    }
   },
   "position": {
    "height": "440px",
    "left": "1048px",
    "right": "20px",
    "top": "116px",
    "width": "448px"
   },
   "types_to_exclude": [
    "module",
    "function",
    "builtin_function_or_method",
    "instance",
    "_Feature"
   ],
   "window_display": false
  }
 },
 "nbformat": 4,
 "nbformat_minor": 4
}
