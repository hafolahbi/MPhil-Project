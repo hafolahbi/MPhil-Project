{
 "cells": [
  {
   "cell_type": "markdown",
   "metadata": {
    "ExecuteTime": {
     "end_time": "2021-04-15T14:56:32.453372Z",
     "start_time": "2021-04-15T14:56:32.336651Z"
    }
   },
   "source": [
    "# Field Data Analysis\n",
    "## Data Extraction\n",
    "### 25/05/2022 "
   ]
  },
  {
   "cell_type": "code",
   "execution_count": 9,
   "metadata": {
    "ExecuteTime": {
     "end_time": "2022-06-15T17:34:06.096269Z",
     "start_time": "2022-06-15T17:34:06.080266Z"
    }
   },
   "outputs": [],
   "source": [
    "#import segysak\n",
    "import pathlib\n",
    "import platform\n",
    "from IPython.display import display\n",
    "\n",
    "import os\n",
    "import pandas as pd\n",
    "import numpy as np\n",
    "\n",
    "from netCDF4 import Dataset\n",
    "import xarray as xr\n",
    "\n",
    "import matplotlib.pyplot as plt"
   ]
  },
  {
   "cell_type": "code",
   "execution_count": 10,
   "metadata": {
    "ExecuteTime": {
     "end_time": "2022-06-15T17:34:11.902988Z",
     "start_time": "2022-06-15T17:34:11.747644Z"
    }
   },
   "outputs": [],
   "source": [
    "# os.chdir('/users/hafolahbi/Desktop/Field/Latif 22_05/All_Excel_combined_LF')\n",
    "os.chdir('/users/hafolahbi/Desktop/Field/Latif 22_05/All_Excel_combined_LF')\n",
    "data = pd.read_csv('xyz_error_odv.csv')"
   ]
  },
  {
   "cell_type": "code",
   "execution_count": 11,
   "metadata": {
    "ExecuteTime": {
     "end_time": "2022-06-15T17:34:16.321236Z",
     "start_time": "2022-06-15T17:34:16.300232Z"
    }
   },
   "outputs": [
    {
     "data": {
      "text/html": [
       "<div>\n",
       "<style scoped>\n",
       "    .dataframe tbody tr th:only-of-type {\n",
       "        vertical-align: middle;\n",
       "    }\n",
       "\n",
       "    .dataframe tbody tr th {\n",
       "        vertical-align: top;\n",
       "    }\n",
       "\n",
       "    .dataframe thead th {\n",
       "        text-align: right;\n",
       "    }\n",
       "</style>\n",
       "<table border=\"1\" class=\"dataframe\">\n",
       "  <thead>\n",
       "    <tr style=\"text-align: right;\">\n",
       "      <th></th>\n",
       "      <th>Longitude</th>\n",
       "      <th>Latitude</th>\n",
       "      <th>Depth</th>\n",
       "    </tr>\n",
       "  </thead>\n",
       "  <tbody>\n",
       "    <tr>\n",
       "      <th>0</th>\n",
       "      <td>4.623282</td>\n",
       "      <td>6.241697</td>\n",
       "      <td>NaN</td>\n",
       "    </tr>\n",
       "    <tr>\n",
       "      <th>1</th>\n",
       "      <td>4.623282</td>\n",
       "      <td>6.241697</td>\n",
       "      <td>NaN</td>\n",
       "    </tr>\n",
       "    <tr>\n",
       "      <th>2</th>\n",
       "      <td>4.623282</td>\n",
       "      <td>6.241697</td>\n",
       "      <td>NaN</td>\n",
       "    </tr>\n",
       "    <tr>\n",
       "      <th>3</th>\n",
       "      <td>4.623282</td>\n",
       "      <td>6.241697</td>\n",
       "      <td>NaN</td>\n",
       "    </tr>\n",
       "    <tr>\n",
       "      <th>4</th>\n",
       "      <td>4.623282</td>\n",
       "      <td>6.241697</td>\n",
       "      <td>NaN</td>\n",
       "    </tr>\n",
       "  </tbody>\n",
       "</table>\n",
       "</div>"
      ],
      "text/plain": [
       "   Longitude  Latitude  Depth\n",
       "0   4.623282  6.241697    NaN\n",
       "1   4.623282  6.241697    NaN\n",
       "2   4.623282  6.241697    NaN\n",
       "3   4.623282  6.241697    NaN\n",
       "4   4.623282  6.241697    NaN"
      ]
     },
     "execution_count": 11,
     "metadata": {},
     "output_type": "execute_result"
    }
   ],
   "source": [
    "# data\n",
    "data.head()"
   ]
  },
  {
   "cell_type": "code",
   "execution_count": 12,
   "metadata": {
    "ExecuteTime": {
     "end_time": "2022-06-15T17:34:25.381534Z",
     "start_time": "2022-06-15T17:34:25.367531Z"
    }
   },
   "outputs": [],
   "source": [
    "lon = data.Longitude\n",
    "lat = data.Latitude\n",
    "depth = data.Depth"
   ]
  },
  {
   "cell_type": "markdown",
   "metadata": {},
   "source": [
    "#### Removing and masking invalid data"
   ]
  },
  {
   "cell_type": "code",
   "execution_count": 5,
   "metadata": {
    "ExecuteTime": {
     "end_time": "2022-06-15T17:22:57.343848Z",
     "start_time": "2022-06-15T17:22:57.330306Z"
    }
   },
   "outputs": [],
   "source": [
    "# depth = np.ma.masked_where(depth==0.0, depth) #Removing depth values <=0.2. 0.2 is the value of the draft\n",
    "# np.ma.masked_invalid(depth)\n",
    "depth = np.ma.masked_where(depth<=0.2, depth) #Removing depth values <=0.2. 0.2 is the error value when transducer fail to record\n",
    "depth = np.ma.masked_invalid(depth)\n",
    "depth = depth + 0.2 # Adding 0.2 meters to the measured depth\n",
    "# The 0.2m is the depth from the transducer to the bottom of the boat\n",
    "depth = depth * -1 # turn to bathymetry (negative values)"
   ]
  },
  {
   "cell_type": "markdown",
   "metadata": {},
   "source": [
    "### Output variables to csv"
   ]
  },
  {
   "cell_type": "code",
   "execution_count": 16,
   "metadata": {
    "ExecuteTime": {
     "end_time": "2022-06-15T17:35:57.909243Z",
     "start_time": "2022-06-15T17:35:56.641293Z"
    }
   },
   "outputs": [],
   "source": [
    "# os.chdir('/users/hafolahbi/Desktop/Field/Latif 22_05/All_Excel_combined_LF/All_Excel_combined_LF_no_error')\n",
    "# lon = pd.DataFrame(data = lon) # data = variable name to be saved in csv format\n",
    "# lon.to_csv('lon.csv', index = False, encoding='utf-8')\n",
    "\n",
    "# lat = pd.DataFrame(data = lat) \n",
    "# lat.to_csv('lat.csv', index = False, encoding='utf-8')\n",
    "\n",
    "# depth = pd.DataFrame(data = depth)\n",
    "# depth.to_csv('depth.csv', index = False, encoding='utf-8')"
   ]
  },
  {
   "cell_type": "code",
   "execution_count": 7,
   "metadata": {
    "ExecuteTime": {
     "end_time": "2022-06-15T17:22:57.615041Z",
     "start_time": "2022-06-15T17:22:57.361852Z"
    }
   },
   "outputs": [
    {
     "data": {
      "text/plain": [
       "Longitude     True\n",
       "Latitude      True\n",
       "Depth        False\n",
       "dtype: bool"
      ]
     },
     "execution_count": 7,
     "metadata": {},
     "output_type": "execute_result"
    }
   ],
   "source": [
    "os.chdir('/users/hafolahbi/Desktop/Field/Latif 22_05/All_Excel_combined_LF/All_Excel_combined_LF_no_error')\n",
    "data2 = pd.read_csv('All.csv')\n",
    "data3 = pd.read_csv('Bathy.csv')\n",
    "#Checking if both files are equal\n",
    "(data2==data3).all()"
   ]
  }
 ],
 "metadata": {
  "kernelspec": {
   "display_name": "Python 3 (ipykernel)",
   "language": "python",
   "name": "python3"
  },
  "language_info": {
   "codemirror_mode": {
    "name": "ipython",
    "version": 3
   },
   "file_extension": ".py",
   "mimetype": "text/x-python",
   "name": "python",
   "nbconvert_exporter": "python",
   "pygments_lexer": "ipython3",
   "version": "3.9.7"
  },
  "latex_envs": {
   "LaTeX_envs_menu_present": true,
   "autoclose": false,
   "autocomplete": true,
   "bibliofile": "biblio.bib",
   "cite_by": "apalike",
   "current_citInitial": 1,
   "eqLabelWithNumbers": true,
   "eqNumInitial": 1,
   "hotkeys": {
    "equation": "Ctrl-E",
    "itemize": "Ctrl-I"
   },
   "labels_anchors": false,
   "latex_user_defs": false,
   "report_style_numbering": false,
   "user_envs_cfg": false
  },
  "toc": {
   "base_numbering": 1,
   "nav_menu": {
    "height": "118px",
    "width": "308px"
   },
   "number_sections": true,
   "sideBar": true,
   "skip_h1_title": false,
   "title_cell": "Table of Contents",
   "title_sidebar": "Contents",
   "toc_cell": false,
   "toc_position": {
    "height": "calc(100% - 180px)",
    "left": "10px",
    "top": "150px",
    "width": "273.188px"
   },
   "toc_section_display": true,
   "toc_window_display": true
  },
  "varInspector": {
   "cols": {
    "lenName": 16,
    "lenType": 16,
    "lenVar": 40
   },
   "kernels_config": {
    "python": {
     "delete_cmd_postfix": "",
     "delete_cmd_prefix": "del ",
     "library": "var_list.py",
     "varRefreshCmd": "print(var_dic_list())"
    },
    "r": {
     "delete_cmd_postfix": ") ",
     "delete_cmd_prefix": "rm(",
     "library": "var_list.r",
     "varRefreshCmd": "cat(var_dic_list()) "
    }
   },
   "position": {
    "height": "440px",
    "left": "1048px",
    "right": "20px",
    "top": "116px",
    "width": "448px"
   },
   "types_to_exclude": [
    "module",
    "function",
    "builtin_function_or_method",
    "instance",
    "_Feature"
   ],
   "window_display": false
  }
 },
 "nbformat": 4,
 "nbformat_minor": 4
}
